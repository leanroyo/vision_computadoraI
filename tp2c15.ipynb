{
 "cells": [
  {
   "cell_type": "markdown",
   "metadata": {},
   "source": [
    "Cargar y preprocesar el video:"
   ]
  },
  {
   "cell_type": "code",
   "execution_count": 16,
   "metadata": {},
   "outputs": [
    {
     "name": "stdout",
     "output_type": "stream",
     "text": [
      "Video cargado correctamente\n",
      "Total de frames en el video: 171\n"
     ]
    }
   ],
   "source": [
    "import cv2 as cv\n",
    "\n",
    "# Cargar el video\n",
    "video_path = 'Material_TPs\\\\TP2\\\\focus_video.mov'\n",
    "cap = cv.VideoCapture(video_path)\n",
    "\n",
    "# Verificar si el video se cargó correctamente\n",
    "if not cap.isOpened():\n",
    "    print(\"Error al cargar el video\")\n",
    "else:\n",
    "    print(\"Video cargado correctamente\")\n",
    "\n",
    "# Obtener la cantidad de frames\n",
    "frame_count = int(cap.get(cv.CAP_PROP_FRAME_COUNT))\n",
    "print(f\"Total de frames en el video: {frame_count}\")\n"
   ]
  },
  {
   "cell_type": "markdown",
   "metadata": {},
   "source": [
    "Implementar la métrica de enfoque:"
   ]
  },
  {
   "cell_type": "code",
   "execution_count": 17,
   "metadata": {},
   "outputs": [],
   "source": [
    "import numpy as np\n",
    "\n",
    "def sharpness_metric(image):\n",
    "    #Convertir la imagen a escala de grises\n",
    "    gray_image = cv.cvtColor(image, cv.COLOR_BGR2GRAY)\n",
    "\n",
    "    #Aplicar la transformada de fourier\n",
    "    f_transform = np.fft.fft2(gray_image)\n",
    "\n",
    "    #Desplazar la componente de frecuencia cero al centro del espectro\n",
    "    f_transform_shifted = np.fft.fftshift(f_transform)\n",
    "\n",
    "    #Calcular la magnitud del espectro de fourier\n",
    "    magnitude_spectrum = np.abs(f_transform_shifted)\n",
    "\n",
    "    #Definir una máscara para las componentes de alta frecuencia\n",
    "    rows, cols = gray_image.shape\n",
    "    crow, ccol = rows // 2, cols //2\n",
    "    mask = np.ones((rows,cols), np.uint8)\n",
    "    r = 30 #radio para las componentes de baja frequencia\n",
    "    mask[crow - r:crow + r, ccol - r:ccol +r] = 0\n",
    "\n",
    "    #Aplicar la mascara para eliminar las componentes de baja frecuencia\n",
    "    high_freq_magnitude = magnitude_spectrum * mask\n",
    "\n",
    "    #Calcular la métrica de nitidez como la suma de las componentes de alta frecuencia\n",
    "    sharpness_value = np.sum(high_freq_magnitude)\n",
    "\n",
    "    return sharpness_value"
   ]
  },
  {
   "cell_type": "markdown",
   "metadata": {},
   "source": [
    "Medir el enfoque:"
   ]
  },
  {
   "cell_type": "code",
   "execution_count": 18,
   "metadata": {},
   "outputs": [
    {
     "name": "stdout",
     "output_type": "stream",
     "text": [
      "Frame 1/171, Sharpness: 76553525.42566699\n",
      "Frame 2/171, Sharpness: 73510467.71906668\n",
      "Frame 3/171, Sharpness: 76991594.22644158\n",
      "Frame 4/171, Sharpness: 74459978.11920013\n",
      "Frame 5/171, Sharpness: 78533027.38527553\n",
      "Frame 6/171, Sharpness: 76208176.92885141\n",
      "Frame 7/171, Sharpness: 78847736.79351956\n",
      "Frame 8/171, Sharpness: 76260025.80883467\n",
      "Frame 9/171, Sharpness: 79827783.14097469\n",
      "Frame 10/171, Sharpness: 78797275.25138007\n",
      "Frame 11/171, Sharpness: 80618465.15631022\n",
      "Frame 12/171, Sharpness: 77351476.0875999\n",
      "Frame 13/171, Sharpness: 81109670.98237494\n",
      "Frame 14/171, Sharpness: 78347372.53676078\n",
      "Frame 15/171, Sharpness: 81200339.74747765\n",
      "Frame 16/171, Sharpness: 77708631.97156934\n",
      "Frame 17/171, Sharpness: 80949320.26021688\n",
      "Frame 18/171, Sharpness: 78939930.39058857\n",
      "Frame 19/171, Sharpness: 80848227.08170106\n",
      "Frame 20/171, Sharpness: 79025005.02436829\n",
      "Frame 21/171, Sharpness: 81125831.63838424\n",
      "Frame 22/171, Sharpness: 79796986.15046445\n",
      "Frame 23/171, Sharpness: 81428514.59828584\n",
      "Frame 24/171, Sharpness: 78330915.51663037\n",
      "Frame 25/171, Sharpness: 81896131.54609492\n",
      "Frame 26/171, Sharpness: 78832819.9978078\n",
      "Frame 27/171, Sharpness: 82277460.72680742\n",
      "Frame 28/171, Sharpness: 79959250.13661\n",
      "Frame 29/171, Sharpness: 83519400.05568618\n",
      "Frame 30/171, Sharpness: 81849638.5037194\n",
      "Frame 31/171, Sharpness: 85200920.00164823\n",
      "Frame 32/171, Sharpness: 87631403.73397827\n",
      "Frame 33/171, Sharpness: 84098802.02688386\n",
      "Frame 34/171, Sharpness: 87766249.33534005\n",
      "Frame 35/171, Sharpness: 86978179.88219264\n",
      "Frame 36/171, Sharpness: 90089823.38711098\n",
      "Frame 37/171, Sharpness: 89946251.25304954\n",
      "Frame 38/171, Sharpness: 93190829.0231685\n",
      "Frame 39/171, Sharpness: 93370328.28593232\n",
      "Frame 40/171, Sharpness: 96907434.22222367\n",
      "Frame 41/171, Sharpness: 96919921.52135268\n",
      "Frame 42/171, Sharpness: 101799453.55474971\n",
      "Frame 43/171, Sharpness: 102578661.57736625\n",
      "Frame 44/171, Sharpness: 106821899.740668\n",
      "Frame 45/171, Sharpness: 106989141.69238167\n",
      "Frame 46/171, Sharpness: 113178321.57164104\n",
      "Frame 47/171, Sharpness: 113083377.02863869\n",
      "Frame 48/171, Sharpness: 118157038.7454569\n",
      "Frame 49/171, Sharpness: 118327159.295417\n",
      "Frame 50/171, Sharpness: 125570378.25963235\n",
      "Frame 51/171, Sharpness: 127110520.36793603\n",
      "Frame 52/171, Sharpness: 134570705.47294715\n",
      "Frame 53/171, Sharpness: 138090285.63745305\n",
      "Frame 54/171, Sharpness: 147117848.58059087\n",
      "Frame 55/171, Sharpness: 149306411.88117355\n",
      "Frame 56/171, Sharpness: 163484992.62624663\n",
      "Frame 57/171, Sharpness: 166214289.59903225\n",
      "Frame 58/171, Sharpness: 179581913.7587851\n",
      "Frame 59/171, Sharpness: 184695636.8132793\n",
      "Frame 60/171, Sharpness: 199112410.75175196\n",
      "Frame 61/171, Sharpness: 213691333.8829026\n",
      "Frame 62/171, Sharpness: 215984796.09994042\n",
      "Frame 63/171, Sharpness: 226020042.98634833\n",
      "Frame 64/171, Sharpness: 226963600.1573998\n",
      "Frame 65/171, Sharpness: 239315922.65768012\n",
      "Frame 66/171, Sharpness: 240307849.80979213\n",
      "Frame 67/171, Sharpness: 251195331.5866231\n",
      "Frame 68/171, Sharpness: 250412006.78675145\n",
      "Frame 69/171, Sharpness: 260411681.08795726\n",
      "Frame 70/171, Sharpness: 259558898.2045157\n",
      "Frame 71/171, Sharpness: 269946558.1593338\n",
      "Frame 72/171, Sharpness: 271732300.3146912\n",
      "Frame 73/171, Sharpness: 281115820.3455022\n",
      "Frame 74/171, Sharpness: 278941456.1117034\n",
      "Frame 75/171, Sharpness: 289159328.52159333\n",
      "Frame 76/171, Sharpness: 290332786.81555754\n",
      "Frame 77/171, Sharpness: 301769510.9996697\n",
      "Frame 78/171, Sharpness: 304938718.5394738\n",
      "Frame 79/171, Sharpness: 316900663.99974877\n",
      "Frame 80/171, Sharpness: 320149602.56441516\n",
      "Frame 81/171, Sharpness: 332267256.2707566\n",
      "Frame 82/171, Sharpness: 339082376.54093134\n",
      "Frame 83/171, Sharpness: 353083706.2645004\n",
      "Frame 84/171, Sharpness: 360938363.3361693\n",
      "Frame 85/171, Sharpness: 373525680.0716198\n",
      "Frame 86/171, Sharpness: 381201421.8867596\n",
      "Frame 87/171, Sharpness: 393804987.01307744\n",
      "Frame 88/171, Sharpness: 396890151.294961\n",
      "Frame 89/171, Sharpness: 406492962.0508891\n",
      "Frame 90/171, Sharpness: 405716722.6086021\n",
      "Frame 91/171, Sharpness: 417083764.4173044\n",
      "Frame 92/171, Sharpness: 431015012.3443157\n",
      "Frame 93/171, Sharpness: 417206253.8891294\n",
      "Frame 94/171, Sharpness: 431760628.8866665\n",
      "Frame 95/171, Sharpness: 420474751.63872653\n",
      "Frame 96/171, Sharpness: 431109960.92894244\n",
      "Frame 97/171, Sharpness: 424082142.61229247\n",
      "Frame 98/171, Sharpness: 437261376.52061987\n",
      "Frame 99/171, Sharpness: 426601218.9415857\n",
      "Frame 100/171, Sharpness: 436033717.78746986\n",
      "Frame 101/171, Sharpness: 427981660.0820681\n",
      "Frame 102/171, Sharpness: 435992422.0924406\n",
      "Frame 103/171, Sharpness: 425389150.7817759\n",
      "Frame 104/171, Sharpness: 437603850.42305994\n",
      "Frame 105/171, Sharpness: 427308881.03828555\n",
      "Frame 106/171, Sharpness: 441328777.8429402\n",
      "Frame 107/171, Sharpness: 435150761.3914628\n",
      "Frame 108/171, Sharpness: 447573311.19713885\n",
      "Frame 109/171, Sharpness: 441852339.43094075\n",
      "Frame 110/171, Sharpness: 456038725.79356647\n",
      "Frame 111/171, Sharpness: 450022769.41239905\n",
      "Frame 112/171, Sharpness: 459174078.7252383\n",
      "Frame 113/171, Sharpness: 440041353.51047885\n",
      "Frame 114/171, Sharpness: 438861511.498581\n",
      "Frame 115/171, Sharpness: 388200631.9102093\n",
      "Frame 116/171, Sharpness: 372279024.145335\n",
      "Frame 117/171, Sharpness: 327360132.015879\n",
      "Frame 118/171, Sharpness: 321532623.2768735\n",
      "Frame 119/171, Sharpness: 290675423.2504972\n",
      "Frame 120/171, Sharpness: 292223302.078123\n",
      "Frame 121/171, Sharpness: 274277268.2676296\n",
      "Frame 122/171, Sharpness: 252543563.2980082\n",
      "Frame 123/171, Sharpness: 255610130.78528476\n",
      "Frame 124/171, Sharpness: 225682569.04969525\n",
      "Frame 125/171, Sharpness: 225395426.02181992\n",
      "Frame 126/171, Sharpness: 196349563.64764178\n",
      "Frame 127/171, Sharpness: 195010173.18416205\n",
      "Frame 128/171, Sharpness: 169360700.68121472\n",
      "Frame 129/171, Sharpness: 166744637.11924022\n",
      "Frame 130/171, Sharpness: 151152396.3476236\n",
      "Frame 131/171, Sharpness: 153509857.0404935\n",
      "Frame 132/171, Sharpness: 138408145.022842\n",
      "Frame 133/171, Sharpness: 137483625.62578848\n",
      "Frame 134/171, Sharpness: 123909970.91483696\n",
      "Frame 135/171, Sharpness: 125057244.40830706\n",
      "Frame 136/171, Sharpness: 115099223.50921528\n",
      "Frame 137/171, Sharpness: 117259575.93271501\n",
      "Frame 138/171, Sharpness: 106821022.97686651\n",
      "Frame 139/171, Sharpness: 108949361.21432273\n",
      "Frame 140/171, Sharpness: 102583645.60198314\n",
      "Frame 141/171, Sharpness: 106285408.54507054\n",
      "Frame 142/171, Sharpness: 104267374.4003199\n",
      "Frame 143/171, Sharpness: 106925387.03795551\n",
      "Frame 144/171, Sharpness: 100542843.3904857\n",
      "Frame 145/171, Sharpness: 100685659.1127434\n",
      "Frame 146/171, Sharpness: 91955379.48355001\n",
      "Frame 147/171, Sharpness: 93570183.73178993\n",
      "Frame 148/171, Sharpness: 88173503.59940802\n",
      "Frame 149/171, Sharpness: 90268656.86691327\n",
      "Frame 150/171, Sharpness: 85233271.64689559\n",
      "Frame 151/171, Sharpness: 86904589.61856896\n",
      "Frame 152/171, Sharpness: 86089717.63085935\n",
      "Frame 153/171, Sharpness: 81584224.62787306\n",
      "Frame 154/171, Sharpness: 83257762.70951523\n",
      "Frame 155/171, Sharpness: 81021943.78884012\n",
      "Frame 156/171, Sharpness: 84224223.77535751\n",
      "Frame 157/171, Sharpness: 83209251.25695111\n",
      "Frame 158/171, Sharpness: 86553024.02138197\n",
      "Frame 159/171, Sharpness: 86498644.2405808\n",
      "Frame 160/171, Sharpness: 87556424.40589844\n",
      "Frame 161/171, Sharpness: 85111399.65104558\n",
      "Frame 162/171, Sharpness: 87796905.40801781\n",
      "Frame 163/171, Sharpness: 85247561.4574599\n",
      "Frame 164/171, Sharpness: 88013619.56739007\n",
      "Frame 165/171, Sharpness: 87566273.7022554\n",
      "Frame 166/171, Sharpness: 94140930.51569414\n",
      "Frame 167/171, Sharpness: 92081222.35254693\n",
      "Frame 168/171, Sharpness: 96168518.44676587\n",
      "Frame 169/171, Sharpness: 93448288.6224934\n",
      "Frame 170/171, Sharpness: 97969217.53042798\n",
      "Frame 171/171, Sharpness: 97622044.31235808\n"
     ]
    }
   ],
   "source": [
    "sharpness_values = []\n",
    "\n",
    "cap.set(cv.CAP_PROP_POS_FRAMES, 0) #ir al primer frame\n",
    "\n",
    "for i in range (frame_count):\n",
    "    ret, frame = cap.read()\n",
    "    if not ret:\n",
    "        break\n",
    "\n",
    "    sharpness = sharpness_metric(frame)\n",
    "    sharpness_values.append(sharpness)\n",
    "\n",
    "    print(f\"Frame {i+1}/{frame_count}, Sharpness: {sharpness}\")\n",
    "\n",
    "cap.release()\n"
   ]
  },
  {
   "cell_type": "markdown",
   "metadata": {},
   "source": [
    "Visualizar la métrica de enfoque:"
   ]
  },
  {
   "cell_type": "code",
   "execution_count": 19,
   "metadata": {},
   "outputs": [
    {
     "data": {
      "image/png": "[encoded data removed]",
      "text/plain": [
       "<Figure size 640x480 with 1 Axes>"
      ]
     },
     "metadata": {},
     "output_type": "display_data"
    }
   ],
   "source": [
    "import matplotlib.pyplot as plt\n",
    "\n",
    "plt.plot(sharpness_values, marker='o')\n",
    "plt.title('Métrica de enfoque a lo largo de los frames')\n",
    "plt.xlabel('Frame #')\n",
    "plt.ylabel('Métrica de enfoque')\n",
    "plt.show()"
   ]
  },
  {
   "cell_type": "markdown",
   "metadata": {},
   "source": [
    "Medición de ROI (Región de interés):"
   ]
  },
  {
   "cell_type": "code",
   "execution_count": 20,
   "metadata": {},
   "outputs": [],
   "source": [
    "#Definir subimagen centrada en el frame\n",
    "\n",
    "def sharpness_metric_roi(image, roi_size=0.1):\n",
    "    rows, cols, _ = image.shape\n",
    "    roi_h, roi_w = int(rows * roi_size), int(cols * roi_size)\n",
    "    start_row, start_col = (rows - roi_h) // 2, (cols - roi_w) // 2\n",
    "    roi = image[start_row:start_row+roi_h, start_col:start_col+roi_w]\n",
    "\n",
    "    return sharpness_metric(roi)\n",
    "\n",
    "sharpness_values_roi = []\n",
    "\n",
    "cap.set(cv.CAP_PROP_POS_FRAMES, 0) # Resetear\n",
    "\n",
    "for i in range(frame_count):\n",
    "    ret, frame = cap.read()\n",
    "    if not ret:\n",
    "        break\n",
    "\n",
    "    sharpness = sharpness_metric_roi(frame)\n",
    "    sharpness_values_roi.append(sharpness)\n",
    "\n",
    "    print(f\"Frame {i+1}/{frame_count}, Sharpness (ROI): {sharpness}\")\n",
    "\n",
    "cap.release()"
   ]
  },
  {
   "cell_type": "markdown",
   "metadata": {},
   "source": [
    "Medir el enfoque utilizando una matriz de NxM regiones:"
   ]
  },
  {
   "cell_type": "code",
   "execution_count": 21,
   "metadata": {},
   "outputs": [],
   "source": [
    "def sharpness_metric_grid(image, N, M):\n",
    "    rows, cols, _ = image.shape\n",
    "    cell_h, cell_w = rows // N, cols // M\n",
    "    sharpness_total = 0\n",
    "    \n",
    "    for i in range(N):\n",
    "        for j in range(M):\n",
    "            roi = image[i*cell_h:(i+1)*cell_h, j*cell_w:(j+1)*cell_w]\n",
    "            sharpness_total += sharpness_metric(roi)\n",
    "    \n",
    "    return sharpness_total / (N * M)\n",
    "\n",
    "sharpness_values_grid = []\n",
    "\n",
    "cap.set(cv.CAP_PROP_POS_FRAMES, 0)  # Resetear al primer frame\n",
    "\n",
    "for i in range(frame_count):\n",
    "    ret, frame = cap.read()\n",
    "    if not ret:\n",
    "        break\n",
    "    \n",
    "    sharpness = sharpness_metric_grid(frame, N=3, M=3)  # Probar con diferentes valores de N y M\n",
    "    sharpness_values_grid.append(sharpness)\n",
    "    \n",
    "    print(f\"Frame {i+1}/{frame_count}, Sharpness (Grid): {sharpness}\")\n",
    "\n",
    "cap.release()\n"
   ]
  },
  {
   "cell_type": "markdown",
   "metadata": {},
   "source": [
    "Visualizar el video:\n",
    "\n",
    "*Dado que el formato del video no era soportado primero se procedió a realizar una conversión a mp4 con codec H.264, este video ya se cargó formateado por una cuestión de practicidad y será el que se utilizará a continuación"
   ]
  },
  {
   "cell_type": "code",
   "execution_count": 35,
   "metadata": {},
   "outputs": [],
   "source": [
    "# Cargar el video formateado\n",
    "video_path = 'Material_TPs\\\\TP2\\\\focus_video.mp4'\n",
    "cap = cv.VideoCapture(video_path)\n"
   ]
  },
  {
   "cell_type": "code",
   "execution_count": 36,
   "metadata": {},
   "outputs": [],
   "source": [
    "# Verificar si el video se abrió correctamente\n",
    "if not cap.isOpened():\n",
    "    raise ValueError(\"No se pudo abrir el archivo de video. Verifica la ruta y el formato.\")\n",
    "\n",
    "# Intentar leer el primer frame nuevamente\n",
    "ret, frame = cap.read()\n",
    "if not ret:\n",
    "    raise ValueError(\"No se pudo leer el primer frame del video. Verifica el archivo de video.\")\n"
   ]
  },
  {
   "cell_type": "code",
   "execution_count": 37,
   "metadata": {},
   "outputs": [],
   "source": [
    "rows, cols = 5,5\n",
    "\n",
    "# Definir la ROI en el centro del frame\n",
    "roi_percentage = 0.1  # Porcentaje del área total del frame que ocupará la ROI\n",
    "roi_w = int(cols * roi_percentage)  # Ancho de la ROI\n",
    "roi_h = int(rows * roi_percentage)  # Alto de la ROI\n",
    "\n",
    "# Coordenadas de la esquina superior izquierda de la ROI\n",
    "start_col = (cols - roi_w) // 2\n",
    "start_row = (rows - roi_h) // 2"
   ]
  },
  {
   "cell_type": "code",
   "execution_count": 38,
   "metadata": {},
   "outputs": [],
   "source": [
    "# Leer el primer frame para obtener las dimensiones del video\n",
    "ret, frame = cap.read()\n",
    "if ret:\n",
    "    rows, cols, _ = frame.shape  # Obtener dimensiones del frame (alto, ancho, canales)\n",
    "else:\n",
    "    raise ValueError(\"No se pudo leer el primer frame del video.\")\n",
    "\n",
    "cap.set(cv.CAP_PROP_POS_FRAMES, 0)  # Resetear al primer frame\n",
    "\n",
    "output_video = cv.VideoWriter('output_focus_video.avi', cv.VideoWriter_fourcc(*'XVID'), 20.0, (cols, rows))\n",
    "\n",
    "for i in range(frame_count):\n",
    "    ret, frame = cap.read()\n",
    "    if not ret:\n",
    "        break\n",
    "    \n",
    "    sharpness = sharpness_metric(frame)\n",
    "    \n",
    "    if sharpness == max(sharpness_values):\n",
    "        color = (0, 255, 0)  # Verde para frames con máximo enfoque\n",
    "    else:\n",
    "        color = (0, 0, 255)  # Rojo para frames desenfocados\n",
    "    \n",
    "    cv.rectangle(frame, (start_col, start_row), (start_col+roi_w, start_row+roi_h), color, 2)\n",
    "    \n",
    "    output_video.write(frame)\n",
    "\n",
    "    cv.imshow('Frame', frame)\n",
    "    cv.waitKey(1)  # Esperar 1 ms entre cada frame para permitir la visualización\n",
    "\n",
    "cap.release()\n",
    "output_video.release()"
   ]
  },
  {
   "cell_type": "code",
   "execution_count": 39,
   "metadata": {},
   "outputs": [
    {
     "name": "stdout",
     "output_type": "stream",
     "text": [
      "Frame 170, Sharpness: 102678480.48296484\n"
     ]
    }
   ],
   "source": [
    "sharpness = sharpness_metric(frame)\n",
    "print(f\"Frame {i}, Sharpness: {sharpness}\")"
   ]
  },
  {
   "cell_type": "code",
   "execution_count": 40,
   "metadata": {},
   "outputs": [
    {
     "name": "stdout",
     "output_type": "stream",
     "text": [
      "Max Sharpness: 459174078.7252383\n"
     ]
    }
   ],
   "source": [
    "print(f\"Max Sharpness: {max(sharpness_values)}\")\n"
   ]
  },
  {
   "cell_type": "code",
   "execution_count": 41,
   "metadata": {},
   "outputs": [
    {
     "ename": "ValueError",
     "evalue": "No se pudo abrir el archivo de video de salida para escritura.",
     "output_type": "error",
     "traceback": [
      "\u001b[1;31m---------------------------------------------------------------------------\u001b[0m",
      "\u001b[1;31mValueError\u001b[0m                                Traceback (most recent call last)",
      "Cell \u001b[1;32mIn[41], line 2\u001b[0m\n\u001b[0;32m      1\u001b[0m \u001b[38;5;28;01mif\u001b[39;00m \u001b[38;5;129;01mnot\u001b[39;00m output_video\u001b[38;5;241m.\u001b[39misOpened():\n\u001b[1;32m----> 2\u001b[0m     \u001b[38;5;28;01mraise\u001b[39;00m \u001b[38;5;167;01mValueError\u001b[39;00m(\u001b[38;5;124m\"\u001b[39m\u001b[38;5;124mNo se pudo abrir el archivo de video de salida para escritura.\u001b[39m\u001b[38;5;124m\"\u001b[39m)\n",
      "\u001b[1;31mValueError\u001b[0m: No se pudo abrir el archivo de video de salida para escritura."
     ]
    }
   ],
   "source": [
    "if not output_video.isOpened():\n",
    "    raise ValueError(\"No se pudo abrir el archivo de video de salida para escritura.\")\n"
   ]
  },
  {
   "cell_type": "code",
   "execution_count": null,
   "metadata": {},
   "outputs": [],
   "source": []
  }
 ],
 "metadata": {
  "kernelspec": {
   "display_name": "virtualenv",
   "language": "python",
   "name": "python3"
  },
  "language_info": {
   "codemirror_mode": {
    "name": "ipython",
    "version": 3
   },
   "file_extension": ".py",
   "mimetype": "text/x-python",
   "name": "python",
   "nbconvert_exporter": "python",
   "pygments_lexer": "ipython3",
   "version": "3.12.3"
  }
 },
 "nbformat": 4,
 "nbformat_minor": 2
}
